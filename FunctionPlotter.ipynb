{
 "cells": [
  {
   "cell_type": "markdown",
   "id": "01e70331",
   "metadata": {},
   "source": [
    "# Imports"
   ]
  },
  {
   "cell_type": "code",
   "execution_count": 141,
   "id": "b55886e9",
   "metadata": {},
   "outputs": [],
   "source": [
    "from tkinter import *\n",
    "from tkinter import messagebox\n",
    "import matplotlib.pyplot as plt\n",
    "from matplotlib.figure import Figure\n",
    "from matplotlib.backends.backend_tkagg import (FigureCanvasTkAgg, NavigationToolbar2Tk)\n",
    "import numpy as np"
   ]
  },
  {
   "cell_type": "markdown",
   "id": "75891d2b",
   "metadata": {},
   "source": [
    "# Creating Window"
   ]
  },
  {
   "cell_type": "code",
   "execution_count": 142,
   "id": "3b07e723",
   "metadata": {},
   "outputs": [],
   "source": [
    "window = Tk()\n",
    "window.title('Function Plotter')\n",
    "window.geometry('800x1000')\n",
    "\n",
    "label1 = Label(window, text='Enter Function', fg='blue', font=('Arial', 16))\n",
    "label1.place(x=5, y=0)\n",
    "entry1 = Entry(window, width='25')\n",
    "entry1.place(x=5, y=40)\n",
    "\n",
    "label2 = Label(window, text='Maximum Value', fg='blue', font=('Arial', 16))\n",
    "label2.place(x=325, y=0)\n",
    "entry2 = Entry(window, width='25')\n",
    "entry2.place(x=325, y=40)\n",
    "\n",
    "label3 = Label(window, text='Minumum value', fg='blue', font=('Arial', 16))\n",
    "label3.place(x=600, y=0)\n",
    "entry3 = Entry(window, width='25')\n",
    "entry3.place(x=600, y=40)"
   ]
  },
  {
   "cell_type": "markdown",
   "id": "4a0b014a",
   "metadata": {},
   "source": [
    "# Plotting"
   ]
  },
  {
   "cell_type": "code",
   "execution_count": 143,
   "id": "8badbf94",
   "metadata": {},
   "outputs": [],
   "source": [
    "def draw(maximum, minumum, equ):\n",
    "    # the figure that will contain the plot\n",
    "    fig = Figure(figsize = (5, 5),\n",
    "                 dpi = 100)\n",
    "    x = np.linspace(float(minumum), float(maximum))\n",
    "    y = eval(equ)\n",
    "  \n",
    "    # adding the subplot\n",
    "    plot1 = fig.add_subplot(111)\n",
    "    # plotting the graph\n",
    "    plot1.plot(x,y)\n",
    "  \n",
    "    # creating the Tkinter canvas\n",
    "    # containing the Matplotlib figure\n",
    "    canvas = FigureCanvasTkAgg(fig,\n",
    "                               master = window)  \n",
    "    plot1.grid()\n",
    "    plot1.axhline(y=0, color='k')\n",
    "    plot1.axvline(x=0, color='k')\n",
    "    canvas.draw()\n",
    "  \n",
    "    # placing the canvas on the Tkinter window\n",
    "    canvas.get_tk_widget().pack()\n",
    "  \n",
    "\n",
    "  \n",
    "    # placing the toolbar on the Tkinter window\n",
    "    canvas.get_tk_widget().place(x=150, y=200)"
   ]
  },
  {
   "cell_type": "markdown",
   "id": "9c0084b7",
   "metadata": {},
   "source": [
    "# Validating"
   ]
  },
  {
   "cell_type": "code",
   "execution_count": 144,
   "id": "3e1c754a",
   "metadata": {},
   "outputs": [],
   "source": [
    "def handle(maximum, minumum, equ):\n",
    "    equ = equ.replace(\"^\", \"**\")\n",
    "    equ = equ.replace(\" \", \"\")\n",
    "    equ = equ.replace(\"X\", 'x')\n",
    "    equ = equ.replace(\"cos\", \"np.cos\")\n",
    "    equ = equ.replace(\"sin\", \"np.sin\")\n",
    "    equ = equ.replace(\"tan\", \"np.tan\")\n",
    "    try:\n",
    "        x = np.linspace(float(minumum), float(maximum))\n",
    "        y = eval(equ)\n",
    "        draw(maximum, minumum, equ)\n",
    "    except:\n",
    "         messagebox.showinfo(\n",
    "                title='Error!',\n",
    "                message='Enter Valid Function'\n",
    "            )\n",
    "    return"
   ]
  },
  {
   "cell_type": "markdown",
   "id": "346d9ba6",
   "metadata": {},
   "source": [
    "# Taking Inputs"
   ]
  },
  {
   "cell_type": "code",
   "execution_count": 145,
   "id": "75ae2a05",
   "metadata": {},
   "outputs": [],
   "source": [
    "def onClick():\n",
    "    maximum = entry2.get()\n",
    "    minumum = entry3.get()\n",
    "    equ = entry1.get()\n",
    "    if maximum == \"\" or minumum == \"\" or equ == \"\":\n",
    "        messagebox.showinfo(\n",
    "                title='Error!',\n",
    "                message='Fill Your Inputs'\n",
    "            )\n",
    "        return\n",
    "    try:\n",
    "        minumum = float(eval(minumum))\n",
    "        maximum = float(eval(maximum))\n",
    "    except:\n",
    "        messagebox.showinfo(\n",
    "                title='Error!',\n",
    "                message='Enter Valid Range Of Numbers'\n",
    "            )\n",
    "        return\n",
    "    if float(eval(str(minumum))) >= float(eval(str(maximum))):\n",
    "        messagebox.showinfo(\n",
    "                title='Error!',\n",
    "                message='Maximum Must Be Greater Than Minumum'\n",
    "            )\n",
    "        return\n",
    "    handle(maximum, minumum, equ)"
   ]
  },
  {
   "cell_type": "markdown",
   "id": "d190d040",
   "metadata": {},
   "source": [
    "# Clear Input Fields"
   ]
  },
  {
   "cell_type": "code",
   "execution_count": 146,
   "id": "da14900c",
   "metadata": {},
   "outputs": [],
   "source": [
    "def clear():\n",
    "    entry1.delete(0, END)\n",
    "    entry2.delete(0, END)\n",
    "    entry3.delete(0, END)"
   ]
  },
  {
   "cell_type": "markdown",
   "id": "bb1c0a2a",
   "metadata": {},
   "source": [
    "# Exit Window"
   ]
  },
  {
   "cell_type": "code",
   "execution_count": 147,
   "id": "3b33651a",
   "metadata": {},
   "outputs": [],
   "source": [
    "def exit():\n",
    "    window.destroy()"
   ]
  },
  {
   "cell_type": "markdown",
   "id": "5d998396",
   "metadata": {},
   "source": [
    "# Buttons "
   ]
  },
  {
   "cell_type": "code",
   "execution_count": 148,
   "id": "0299633c",
   "metadata": {},
   "outputs": [],
   "source": [
    "myButton = Button(window, text='Plot', command=onClick, width='12', height='2', bg='green', fg='white')\n",
    "myButton.place(x=200, y=80)\n",
    "\n",
    "myButton2 = Button(window, text='Clear', command=clear, width='12', height='2', bg='blue', fg='white')\n",
    "myButton2.place(x=350, y=80)\n",
    "\n",
    "myButton3 = Button(window, text='Exit', command=exit, width='12', height='2', bg='red', fg='white')\n",
    "myButton3.place(x=500, y=80)"
   ]
  },
  {
   "cell_type": "markdown",
   "id": "a3c8d704",
   "metadata": {},
   "source": [
    "# Lets Start"
   ]
  },
  {
   "cell_type": "code",
   "execution_count": 149,
   "id": "ed51f501",
   "metadata": {},
   "outputs": [],
   "source": [
    "window.mainloop()"
   ]
  },
  {
   "cell_type": "code",
   "execution_count": null,
   "id": "79736b14",
   "metadata": {},
   "outputs": [],
   "source": []
  },
  {
   "cell_type": "code",
   "execution_count": null,
   "id": "04c4f228",
   "metadata": {},
   "outputs": [],
   "source": []
  }
 ],
 "metadata": {
  "kernelspec": {
   "display_name": "Python 3",
   "language": "python",
   "name": "python3"
  },
  "language_info": {
   "codemirror_mode": {
    "name": "ipython",
    "version": 3
   },
   "file_extension": ".py",
   "mimetype": "text/x-python",
   "name": "python",
   "nbconvert_exporter": "python",
   "pygments_lexer": "ipython3",
   "version": "3.8.8"
  }
 },
 "nbformat": 4,
 "nbformat_minor": 5
}
